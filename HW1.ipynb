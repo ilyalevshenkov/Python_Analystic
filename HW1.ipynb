{
 "cells": [
  {
   "cell_type": "markdown",
   "id": "9da3da74",
   "metadata": {},
   "source": [
    "# ДЗ 1. Оформление ноутбука и закрепление функций и генераторов."
   ]
  },
  {
   "cell_type": "markdown",
   "id": "1634357c",
   "metadata": {},
   "source": [
    "## Задание 2."
   ]
  },
  {
   "cell_type": "markdown",
   "id": "79a28614",
   "metadata": {},
   "source": [
    "### Задание 2.1."
   ]
  },
  {
   "cell_type": "markdown",
   "id": "acd6f95a",
   "metadata": {},
   "source": [
    "На складе лежат разные фрукты в разном количестве.\n",
    "Нужно написать функцию, которая на вход принимает любое количество названий фруктов и их количество, а возвращает общее количество фруктов на складе"
   ]
  },
  {
   "cell_type": "code",
   "execution_count": 3,
   "id": "2d9a3ab2",
   "metadata": {},
   "outputs": [],
   "source": [
    "fruits = {\n",
    "    'apples': 30,\n",
    "    'oranges': 70,\n",
    "    'bananas': 4,\n",
    "    'pineap­ple': 1,\n",
    "    'papaya': 1,\n",
    "    'kiwi': 1\n",
    "}"
   ]
  },
  {
   "cell_type": "code",
   "execution_count": 4,
   "id": "72687fae",
   "metadata": {},
   "outputs": [
    {
     "data": {
      "text/plain": [
       "107"
      ]
     },
     "execution_count": 4,
     "metadata": {},
     "output_type": "execute_result"
    }
   ],
   "source": [
    "def count_fruits(**kwargs):\n",
    "    total = 0\n",
    "    for value in kwargs.values():\n",
    "        total += value\n",
    "    return total\n",
    "\n",
    "count_fruits(**fruits)"
   ]
  },
  {
   "cell_type": "markdown",
   "id": "4f22333f",
   "metadata": {},
   "source": [
    "### Задание 2.2."
   ]
  },
  {
   "cell_type": "markdown",
   "id": "723d7554",
   "metadata": {},
   "source": [
    "На складе лежат разные фрукты в разном количестве.\n",
    "Нужно написать функцию, которая на вход принимает любое количество названий фруктов и их количество, а возвращает общее количество фруктов на складе"
   ]
  },
  {
   "cell_type": "code",
   "execution_count": 6,
   "id": "f567fd73",
   "metadata": {},
   "outputs": [
    {
     "data": {
      "text/plain": [
       "107"
      ]
     },
     "execution_count": 6,
     "metadata": {},
     "output_type": "execute_result"
    }
   ],
   "source": [
    "total_amount = sum(fruits.values())\n",
    "total_amount"
   ]
  },
  {
   "cell_type": "markdown",
   "id": "d228ac19",
   "metadata": {},
   "source": [
    "## Задание 3."
   ]
  },
  {
   "cell_type": "markdown",
   "id": "8b3592f4",
   "metadata": {},
   "source": [
    "Дан список с затратами на рекламу. Но в данных есть ошибки, некоторые затраты имеют отрицательную величину. Удалите такие значения из списка и посчитайте суммарные затраты\n",
    "[100, 125, -90, 345, 655, -1, 0, 200]\n",
    "Используйте list comprehensions"
   ]
  },
  {
   "cell_type": "code",
   "execution_count": 8,
   "id": "461cebd8",
   "metadata": {},
   "outputs": [
    {
     "data": {
      "text/plain": [
       "1425"
      ]
     },
     "execution_count": 8,
     "metadata": {},
     "output_type": "execute_result"
    }
   ],
   "source": [
    "cost = [100, 125, -90, 345, 655, -1, 0, 200]\n",
    "total_cost = sum([x for x in cost if x > 0])\n",
    "total_cost"
   ]
  },
  {
   "cell_type": "markdown",
   "id": "732637fb",
   "metadata": {},
   "source": [
    "## Задание 4."
   ]
  },
  {
   "cell_type": "markdown",
   "id": "2c8b2d39",
   "metadata": {},
   "source": [
    "Даны два списка.\n",
    "Дата покупки:"
   ]
  },
  {
   "cell_type": "code",
   "execution_count": 10,
   "id": "633e987a",
   "metadata": {},
   "outputs": [],
   "source": [
    "Date_purchase = ['2021-09-14', '2021-12-15', '2021-09-08', '2021-12-05', '2021-10-09', '2021-09-30',\n",
    "'2021-12-22', '2021-11-29', '2021-12-24', '2021-11-26', '2021-10-27', '2021-12-18',\n",
    "'2021-11-09', '2021-11-23', '2021-09-27', '2021-10-02', '2021-12-27', '2021-09-20',\n",
    "'2021-12-13', '2021-11-01', '2021-11-09', '2021-12-06', '2021-12-08', '2021-10-09',\n",
    "'2021-10-31', '2021-09-30', '2021-11-09', '2021-12-13', '2021-10-26', '2021-12-09']  "
   ]
  },
  {
   "cell_type": "markdown",
   "id": "2f30e994",
   "metadata": {},
   "source": [
    "Суммы покупок по датам:"
   ]
  },
  {
   "cell_type": "code",
   "execution_count": 11,
   "id": "00359e50",
   "metadata": {},
   "outputs": [],
   "source": [
    "amounts_date = [1270, 8413, 9028, 3703, 5739, 4095, 295, 4944, 5723, 3701, 4471, 651, 7037, 4274, 6275, 4988, 6930, 2971,\n",
    "6592, 2004, 2822, 519, 3406, 2732, 5015, 2008, 316, 6333, 5700, 2887]"
   ]
  },
  {
   "cell_type": "markdown",
   "id": "aa0393c0",
   "metadata": {},
   "source": [
    "### Задание 4.1."
   ]
  },
  {
   "cell_type": "markdown",
   "id": "d0972c47",
   "metadata": {},
   "source": [
    "Найдите, какая выручка у компании в ноябре\n",
    "Используйте list comprehensions"
   ]
  },
  {
   "cell_type": "code",
   "execution_count": 12,
   "id": "00090d18",
   "metadata": {},
   "outputs": [
    {
     "data": {
      "text/plain": [
       "25098"
      ]
     },
     "execution_count": 12,
     "metadata": {},
     "output_type": "execute_result"
    }
   ],
   "source": [
    "November = sum([amounts_date[i] for i in range(len(Date_purchase)) if Date_purchase[i].startswith('2021-11')])\n",
    "November "
   ]
  },
  {
   "cell_type": "markdown",
   "id": "2292e242",
   "metadata": {},
   "source": [
    "### Задание 4.2."
   ]
  },
  {
   "cell_type": "markdown",
   "id": "5382e6e5",
   "metadata": {},
   "source": [
    "Найдите выручку компании в зависимости от месяца\n",
    "Для этого напишите функцию, которая на вход принимает список с датами и список с выручкой, а на выходе словарь, где ключи - это месяцы, а значения - это выручка.\n",
    "Используйте аннотирование типов."
   ]
  },
  {
   "cell_type": "code",
   "execution_count": 13,
   "id": "f73307d1",
   "metadata": {},
   "outputs": [
    {
     "data": {
      "text/plain": [
       "{'09': 25647, '12': 45452, '10': 28645, '11': 25098}"
      ]
     },
     "execution_count": 13,
     "metadata": {},
     "output_type": "execute_result"
    }
   ],
   "source": [
    "def find_revenue(dates: list[str], amounts: list[int]):\n",
    "    revenue = {} \n",
    "    for date, amount in zip(dates, amounts): \n",
    "        month = date.split('-')[1]\n",
    "        revenue[month] = revenue.get(month, 0) + amount \n",
    "    return revenue\n",
    "find_revenue(Date_purchase, amounts_date)"
   ]
  },
  {
   "cell_type": "code",
   "execution_count": null,
   "id": "bebdf639",
   "metadata": {},
   "outputs": [],
   "source": []
  }
 ],
 "metadata": {
  "kernelspec": {
   "display_name": "Python 3 (ipykernel)",
   "language": "python",
   "name": "python3"
  },
  "language_info": {
   "codemirror_mode": {
    "name": "ipython",
    "version": 3
   },
   "file_extension": ".py",
   "mimetype": "text/x-python",
   "name": "python",
   "nbconvert_exporter": "python",
   "pygments_lexer": "ipython3",
   "version": "3.9.13"
  }
 },
 "nbformat": 4,
 "nbformat_minor": 5
}
